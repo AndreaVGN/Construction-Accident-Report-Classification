{
 "cells": [
  {
   "cell_type": "code",
   "execution_count": 1,
   "id": "9f6277c5-b6ac-44cb-9e82-5900277dc825",
   "metadata": {},
   "outputs": [
    {
     "name": "stderr",
     "output_type": "stream",
     "text": [
      "[nltk_data] Downloading package punkt to\n",
      "[nltk_data]     C:\\Users\\andre\\AppData\\Roaming\\nltk_data...\n",
      "[nltk_data]   Package punkt is already up-to-date!\n",
      "[nltk_data] Downloading package stopwords to\n",
      "[nltk_data]     C:\\Users\\andre\\AppData\\Roaming\\nltk_data...\n",
      "[nltk_data]   Package stopwords is already up-to-date!\n"
     ]
    }
   ],
   "source": [
    "from utils import WCTfidfVectorizer, TextPreprocessor\n",
    "import tkinter as tk\n",
    "from tkinter import messagebox\n",
    "import joblib\n",
    "import re\n",
    "import string\n",
    "\n",
    "lr_model = joblib.load('incident_classifier_lr_pipeline.pkl')\n",
    "svm_model = joblib.load('incident_classifier_svm_pipeline.pkl')\n",
    "\n",
    "def classify_text():\n",
    "    input_text = text_entry.get(\"1.0\", tk.END).strip()\n",
    "    if not input_text:\n",
    "        messagebox.showwarning(\"Warning\", \"Please enter a description.\")\n",
    "        return\n",
    "\n",
    "    selected_model = model_var.get()\n",
    "    model = lr_model if selected_model == \"Logistic Regression\" else svm_model\n",
    "\n",
    "    prediction = model.predict([input_text])[0]\n",
    "    messagebox.showinfo(\"Prediction\", f\"The predicted category is: {prediction}\")\n",
    "\n",
    "root = tk.Tk()\n",
    "root.title(\"Workplace Incident Classifier\")\n",
    "\n",
    "tk.Label(root, text=\"Enter the incident description:\").pack(pady=5)\n",
    "\n",
    "text_entry = tk.Text(root, height=10, width=60)\n",
    "text_entry.pack(pady=5)\n",
    "\n",
    "model_var = tk.StringVar(root)\n",
    "model_var.set(\"Logistic Regression\")\n",
    "\n",
    "tk.Label(root, text=\"Select model:\").pack(pady=5)\n",
    "model_menu = tk.OptionMenu(root, model_var, \"Logistic Regression\", \"SVM\")\n",
    "model_menu.pack(pady=5)\n",
    "\n",
    "predict_btn = tk.Button(root, text=\"Predict\", command=classify_text)\n",
    "predict_btn.pack(pady=10)\n",
    "\n",
    "root.mainloop()\n"
   ]
  },
  {
   "cell_type": "markdown",
   "id": "cd3b9268-1903-4e46-a6ff-820e5a135e12",
   "metadata": {},
   "source": [
    "**1. TRANSPORTATION INCIDENTS**"
   ]
  },
  {
   "cell_type": "markdown",
   "id": "cc7c0d3b-fa03-449a-bccd-8be333f027c9",
   "metadata": {},
   "source": [
    "Vehicle Collision Due to Hydroplaning \\\n",
    "On the morning of March 14th, a logistics driver was en route to a client warehouse when the vehicle began to skid on a wet roadway due to heavy rain. Despite attempts to regain control, the van collided with a roadside barrier. The front bumper and left fender were severely damaged. The driver was wearing a seatbelt and suffered only minor bruising to the shoulder. An accident report was filed, and the driver was cleared after an on-site medical evaluation."
   ]
  },
  {
   "cell_type": "markdown",
   "id": "3b90ce27-c33c-4527-9181-25891e8b9b63",
   "metadata": {},
   "source": [
    "**2. FIRES AND EXPLOSIONS**"
   ]
  },
  {
   "cell_type": "markdown",
   "id": "5fbbc9c0-2ee8-402c-bb0a-307e9d3f5fb5",
   "metadata": {},
   "source": [
    "Chemical Explosion During Maintenance \\\n",
    "On July 22nd, during routine maintenance in the facility's chemical storage area, a small explosion occurred after incompatible substances were accidentally mixed. The force of the blast set off a localized fire, which was quickly contained using handheld extinguishers. Two employees working nearby experienced minor burns and smoke inhalation and were transported to the nearest urgent care facility. The fire department arrived on scene within 10 minutes to ensure the area was safe.\n",
    "\n"
   ]
  },
  {
   "cell_type": "markdown",
   "id": "b72c36e0-4054-4ef0-9aaa-935f6c304a9f",
   "metadata": {},
   "source": [
    "**3. FALLS, SLIPS, TRIPS**"
   ]
  },
  {
   "cell_type": "markdown",
   "id": "071ef078-76d9-4215-8ca4-4d4756637798",
   "metadata": {},
   "source": [
    "Slip on Wet Floor Without Warning Signs \\\n",
    "On November 3rd, a staff member slipped while walking across the freshly mopped lobby floor of the administrative building. No \"wet floor\" signs had been placed in the area. The employee lost balance, fell backward, and struck the back of their head on the tile floor. She remained conscious but complained of nausea and dizziness. Medical personnel were called, and she was taken to the hospital for further examination and observation."
   ]
  },
  {
   "cell_type": "markdown",
   "id": "6a29ccfb-b096-4331-bddc-994aecd28752",
   "metadata": {},
   "source": [
    "**4. EXPOSURE TO HARMFUL SUBSTANCES OR ENVIRONMENTS**"
   ]
  },
  {
   "cell_type": "markdown",
   "id": "9678b4fd-9cbe-4276-b993-b4d0e68dfe80",
   "metadata": {},
   "source": [
    "Chlorine Gas Leak During Inventory Check\\\n",
    "During an inventory check on January 12th, a maintenance worker was exposed to chlorine gas leaking from a poorly sealed industrial tank. Within minutes, he began coughing and experienced difficulty breathing. The affected area was immediately evacuated and the facility's emergency response team activated. The employee received oxygen therapy on site and was later transported to a medical facility for monitoring and treatment.\n"
   ]
  },
  {
   "cell_type": "markdown",
   "id": "bd488c58-89a2-49c0-8711-aebae4b27504",
   "metadata": {},
   "source": [
    "**5. CONTACT WITH OBJECTS AND EQUIPMENT**"
   ]
  },
  {
   "cell_type": "markdown",
   "id": "11c7dd40-964b-42a4-ad19-1c1c361287f2",
   "metadata": {},
   "source": [
    "Hand Injury From Conveyor Belt \\\n",
    "On February 9th, a mechanical technician was inspecting a malfunctioning belt-driven assembly line when his glove got caught in a rotating pulley. Despite the emergency stop being engaged within seconds, the worker’s hand was partially crushed. On-site medics stabilized the injury before he was rushed to the hospital for surgery. The machine has since been taken offline pending a safety investigation."
   ]
  },
  {
   "cell_type": "markdown",
   "id": "6651adb9-47ec-4187-800d-0d83b6bff2d5",
   "metadata": {},
   "source": [
    "**6. OVEREXERTION AND BODILY REACTION**"
   ]
  },
  {
   "cell_type": "markdown",
   "id": "66807ee0-d511-495d-bb6e-3288837ae198",
   "metadata": {},
   "source": [
    "Sudden Heart Attack of a Construction Worker \\\n",
    "On August 18th, a construction worker performing physically demanding tasks at a building site suffered a sudden and severe heart attack. While lifting heavy materials, he collapsed unexpectedly and became unresponsive. Fellow workers immediately called emergency services and started CPR until paramedics arrived. The worker was rushed to the hospital for emergency treatment. This incident highlighted the need for regular health checks and awareness of physical limits on construction sites.\n"
   ]
  },
  {
   "cell_type": "markdown",
   "id": "b5f5dd00-ecca-440c-b785-2eb0a8fca2e3",
   "metadata": {},
   "source": [
    "**7. VIOLENCE AND OTHER INJURIES BY PERSONS OR ANIMALS**"
   ]
  },
  {
   "cell_type": "markdown",
   "id": "f16ee201-1468-482b-b37b-cc5a92f113b5",
   "metadata": {},
   "source": [
    "Bee Sting Incident Causing Allergic Reaction \\\n",
    "On May 5th, a landscape maintenance worker was stung multiple times by a swarm of bees after unknowingly disturbing a hidden hive in a bush while trimming foliage around the premises. He immediately ran from the area, but had already sustained several stings on his arms and neck. Co-workers administered ice packs and called emergency services. Though he did not suffer a severe allergic reaction, the incident resulted in swelling and required a precautionary visit to urgent care. The groundskeeping schedule was adjusted, and a pest control team was dispatched to handle the hive safely."
   ]
  }
 ],
 "metadata": {
  "kernelspec": {
   "display_name": "Python 3 (ipykernel)",
   "language": "python",
   "name": "python3"
  },
  "language_info": {
   "codemirror_mode": {
    "name": "ipython",
    "version": 3
   },
   "file_extension": ".py",
   "mimetype": "text/x-python",
   "name": "python",
   "nbconvert_exporter": "python",
   "pygments_lexer": "ipython3",
   "version": "3.8.20"
  }
 },
 "nbformat": 4,
 "nbformat_minor": 5
}
